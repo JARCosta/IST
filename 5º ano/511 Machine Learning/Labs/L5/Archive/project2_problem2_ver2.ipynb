{
 "cells": [
  {
   "cell_type": "code",
   "execution_count": 22,
   "metadata": {},
   "outputs": [],
   "source": [
    "import numpy as np\n",
    "import matplotlib.pyplot as plt\n",
    "from sklearn.model_selection import train_test_split\n",
    "import keras\n",
    "from keras.models import Sequential\n",
    "from keras.layers import Dense, Flatten, Dropout, Conv2D, MaxPooling2D\n",
    "from keras.callbacks import EarlyStopping, ReduceLROnPlateau, Callback\n",
    "from tensorflow.keras.preprocessing.image import ImageDataGenerator\n",
    "import tensorflow as tf"
   ]
  },
  {
   "cell_type": "markdown",
   "metadata": {},
   "source": [
    "Preprocessing"
   ]
  },
  {
   "cell_type": "code",
   "execution_count": 23,
   "metadata": {},
   "outputs": [
    {
     "data": {
      "text/plain": [
       "<matplotlib.image.AxesImage at 0x26fa679d6f0>"
      ]
     },
     "execution_count": 23,
     "metadata": {},
     "output_type": "execute_result"
    },
    {
     "data": {
      "image/png": "[encoded data removed]",
      "text/plain": [
       "<Figure size 640x480 with 1 Axes>"
      ]
     },
     "metadata": {},
     "output_type": "display_data"
    },
    {
     "data": {
      "image/png": "[encoded data removed]",
      "text/plain": [
       "<Figure size 640x480 with 1 Axes>"
      ]
     },
     "metadata": {},
     "output_type": "display_data"
    }
   ],
   "source": [
    "# Load data\n",
    "Xtrain2_a = np.load('Xtrain2_a.npy')\n",
    "Xtrain2_b = np.load('Xtrain2_b.npy')\n",
    "Ytrain2_a = np.load('Ytrain2_a.npy')\n",
    "Ytrain2_b = np.load('Ytrain2_b.npy')\n",
    "Xtest2_a = np.load('Xtest2_a.npy')\n",
    "Xtest2_b = np.load('Xtest2_b.npy')\n",
    "\n",
    "# Visualize first sample of each training data set\n",
    "plt.figure()\n",
    "plt.imshow(Xtrain2_a[0].reshape((7,7)), cmap='gray')\n",
    "plt.figure()\n",
    "plt.imshow(Xtrain2_b[0].reshape((48,48)), cmap='gray')"
   ]
  },
  {
   "cell_type": "code",
   "execution_count": 24,
   "metadata": {},
   "outputs": [
    {
     "name": "stdout",
     "output_type": "stream",
     "text": [
      "(964908, 49)\n",
      "(964908,)\n",
      "(547, 2304)\n",
      "(547, 2304)\n",
      "1260288\n",
      "964908\n"
     ]
    }
   ],
   "source": [
    "# Check dimensions\n",
    "print(Xtrain2_a.shape)\n",
    "print(Ytrain2_a.shape)\n",
    "print(Xtrain2_b.shape)\n",
    "print(Ytrain2_b.shape)\n",
    "print(547*2304)\n",
    "print(1260288-547*(3*48*2+3*42*2))"
   ]
  },
  {
   "cell_type": "code",
   "execution_count": 25,
   "metadata": {},
   "outputs": [
    {
     "name": "stdout",
     "output_type": "stream",
     "text": [
      "Original unique values: [  0. 255.]\n",
      "Original unique values: [0. 1.]\n",
      "Original unique values: [  0. 255.]\n",
      "Original unique values: [0. 1.]\n"
     ]
    }
   ],
   "source": [
    "# Ytrain contains 0 and 255, should be 0 and 1\n",
    "print(\"Original unique values:\", np.unique(Ytrain2_a))\n",
    "Ytrain2_a = np.where(Ytrain2_a == 255, 1, Ytrain2_a)\n",
    "print(\"Original unique values:\", np.unique(Ytrain2_a))\n",
    "print(\"Original unique values:\", np.unique(Ytrain2_b))\n",
    "Ytrain2_b = np.where(Ytrain2_b == 255, 1, Ytrain2_b)\n",
    "print(\"Original unique values:\", np.unique(Ytrain2_b))"
   ]
  },
  {
   "cell_type": "code",
   "execution_count": 26,
   "metadata": {},
   "outputs": [],
   "source": [
    "# Scale data from [0,255] to [0,1]\n",
    "train_images2_a = (Xtrain2_a).astype('float32')/255.0\n",
    "# Get label vectors\n",
    "#train_labels2_a = keras.utils.to_categorical(Ytrain2_a,2)\n",
    "# Split into training and validation set\n",
    "X_train, X_val, y_train, y_val = train_test_split(train_images2_a, Ytrain2_a, test_size=0.2)"
   ]
  },
  {
   "cell_type": "code",
   "execution_count": 27,
   "metadata": {},
   "outputs": [],
   "source": [
    "#y_temp = np.argmax(y_train, axis=1)"
   ]
  },
  {
   "cell_type": "code",
   "execution_count": 28,
   "metadata": {},
   "outputs": [
    {
     "name": "stdout",
     "output_type": "stream",
     "text": [
      "(252273, 49)\n",
      "(519653, 49)\n",
      "267380\n"
     ]
    }
   ],
   "source": [
    "# Find out what class to create more training data for\n",
    "crater = X_train[np.where(y_train == 1)]\n",
    "no_crater = X_train[np.where(y_train == 0)]\n",
    "print(crater.shape)\n",
    "print(no_crater.shape)\n",
    "n = no_crater.shape[0]-crater.shape[0]\n",
    "# Number of extra crater images to create\n",
    "print(n)"
   ]
  },
  {
   "cell_type": "code",
   "execution_count": 29,
   "metadata": {},
   "outputs": [
    {
     "name": "stdout",
     "output_type": "stream",
     "text": [
      "(267380, 49)\n"
     ]
    }
   ],
   "source": [
    "# Create an instance of ImageDataGenerator with various augmentations\n",
    "def transform(image):\n",
    "    # Randomly choose an action: flip, rotate, or copy\n",
    "    action = np.random.choice(['flip', 'rotate', 'copy'])    \n",
    "    if action == 'flip':\n",
    "        if np.random.rand() > 0.5:\n",
    "            return np.fliplr(image)  # Flip horizontally\n",
    "        else:\n",
    "            return np.flipud(image)  # Flip vertically           \n",
    "    elif action == 'rotate':\n",
    "        rotation = np.random.choice([90, 180, 270])\n",
    "        if rotation == 90:\n",
    "            return np.rot90(image, k=1)  # Rotate 90 degrees\n",
    "        elif rotation == 180:\n",
    "            return np.rot90(image, k=2)  # Rotate 180 degrees\n",
    "        elif rotation == 270:\n",
    "            return np.rot90(image, k=3)  # Rotate 270 degrees        \n",
    "    return image\n",
    "datagen = ImageDataGenerator(\n",
    "    preprocessing_function=transform\n",
    ")\n",
    "\n",
    "augmented_images = []\n",
    "\n",
    "# Loop through training images\n",
    "for img in crater:\n",
    "    img_reshaped = img.reshape((7, 7, 1))\n",
    "    x = np.expand_dims(img_reshaped, axis=0)  # Expand dims to make it a batch of 1\n",
    "\n",
    "    # Generate augmented images\n",
    "    for batch in datagen.flow(x, batch_size=1):\n",
    "        # Flatten the augmented image\n",
    "        np_array = batch[0].flatten()\n",
    "        augmented_images.append(np_array)\n",
    "        if len(augmented_images) >= n:  # Stop if you have enough augmented images\n",
    "            break\n",
    "    if len(augmented_images) >= n:\n",
    "        break\n",
    "# Convert to NumPy array\n",
    "augmented_images = np.array(augmented_images)/255.0\n",
    "print(augmented_images.shape)\n"
   ]
  },
  {
   "cell_type": "code",
   "execution_count": 30,
   "metadata": {},
   "outputs": [
    {
     "data": {
      "text/plain": [
       "(771926,)"
      ]
     },
     "execution_count": 30,
     "metadata": {},
     "output_type": "execute_result"
    }
   ],
   "source": [
    "y_train.shape"
   ]
  },
  {
   "cell_type": "code",
   "execution_count": 31,
   "metadata": {},
   "outputs": [
    {
     "data": {
      "text/plain": [
       "((1039306, 49), (1039306,))"
      ]
     },
     "execution_count": 31,
     "metadata": {},
     "output_type": "execute_result"
    }
   ],
   "source": [
    "# Add augmented data to training set\n",
    "y_augmented_images = np.ones(len(augmented_images))\n",
    "#y_augmented_labels = keras.utils.to_categorical(y_augmented_images)\n",
    "y_train = np.concatenate((y_train,y_augmented_images))\n",
    "X_train = np.concatenate((X_train, augmented_images), axis=0)\n",
    "X_train.shape, y_train.shape"
   ]
  },
  {
   "cell_type": "markdown",
   "metadata": {},
   "source": [
    "Set up CNN model"
   ]
  },
  {
   "cell_type": "code",
   "execution_count": 32,
   "metadata": {},
   "outputs": [
    {
     "name": "stderr",
     "output_type": "stream",
     "text": [
      "c:\\Users\\j040c\\AppData\\Local\\Programs\\Python\\Python310\\lib\\site-packages\\keras\\src\\layers\\convolutional\\base_conv.py:107: UserWarning: Do not pass an `input_shape`/`input_dim` argument to a layer. When using Sequential models, prefer using an `Input(shape)` object as the first layer in the model instead.\n",
      "  super().__init__(activity_regularizer=activity_regularizer, **kwargs)\n"
     ]
    },
    {
     "data": {
      "text/html": [
       "<pre style=\"white-space:pre;overflow-x:auto;line-height:normal;font-family:Menlo,'DejaVu Sans Mono',consolas,'Courier New',monospace\"><span style=\"font-weight: bold\">Model: \"sequential\"</span>\n",
       "</pre>\n"
      ],
      "text/plain": [
       "\u001b[1mModel: \"sequential\"\u001b[0m\n"
      ]
     },
     "metadata": {},
     "output_type": "display_data"
    },
    {
     "data": {
      "text/html": [
       "<pre style=\"white-space:pre;overflow-x:auto;line-height:normal;font-family:Menlo,'DejaVu Sans Mono',consolas,'Courier New',monospace\">┏━━━━━━━━━━━━━━━━━━━━━━━━━━━━━━━━━┳━━━━━━━━━━━━━━━━━━━━━━━━┳━━━━━━━━━━━━━━━┓\n",
       "┃<span style=\"font-weight: bold\"> Layer (type)                    </span>┃<span style=\"font-weight: bold\"> Output Shape           </span>┃<span style=\"font-weight: bold\">       Param # </span>┃\n",
       "┡━━━━━━━━━━━━━━━━━━━━━━━━━━━━━━━━━╇━━━━━━━━━━━━━━━━━━━━━━━━╇━━━━━━━━━━━━━━━┩\n",
       "│ conv2d (<span style=\"color: #0087ff; text-decoration-color: #0087ff\">Conv2D</span>)                 │ (<span style=\"color: #00d7ff; text-decoration-color: #00d7ff\">None</span>, <span style=\"color: #00af00; text-decoration-color: #00af00\">5</span>, <span style=\"color: #00af00; text-decoration-color: #00af00\">5</span>, <span style=\"color: #00af00; text-decoration-color: #00af00\">32</span>)       │           <span style=\"color: #00af00; text-decoration-color: #00af00\">320</span> │\n",
       "├─────────────────────────────────┼────────────────────────┼───────────────┤\n",
       "│ conv2d_1 (<span style=\"color: #0087ff; text-decoration-color: #0087ff\">Conv2D</span>)               │ (<span style=\"color: #00d7ff; text-decoration-color: #00d7ff\">None</span>, <span style=\"color: #00af00; text-decoration-color: #00af00\">3</span>, <span style=\"color: #00af00; text-decoration-color: #00af00\">3</span>, <span style=\"color: #00af00; text-decoration-color: #00af00\">64</span>)       │        <span style=\"color: #00af00; text-decoration-color: #00af00\">18,496</span> │\n",
       "├─────────────────────────────────┼────────────────────────┼───────────────┤\n",
       "│ flatten (<span style=\"color: #0087ff; text-decoration-color: #0087ff\">Flatten</span>)               │ (<span style=\"color: #00d7ff; text-decoration-color: #00d7ff\">None</span>, <span style=\"color: #00af00; text-decoration-color: #00af00\">576</span>)            │             <span style=\"color: #00af00; text-decoration-color: #00af00\">0</span> │\n",
       "├─────────────────────────────────┼────────────────────────┼───────────────┤\n",
       "│ dense (<span style=\"color: #0087ff; text-decoration-color: #0087ff\">Dense</span>)                   │ (<span style=\"color: #00d7ff; text-decoration-color: #00d7ff\">None</span>, <span style=\"color: #00af00; text-decoration-color: #00af00\">64</span>)             │        <span style=\"color: #00af00; text-decoration-color: #00af00\">36,928</span> │\n",
       "├─────────────────────────────────┼────────────────────────┼───────────────┤\n",
       "│ dense_1 (<span style=\"color: #0087ff; text-decoration-color: #0087ff\">Dense</span>)                 │ (<span style=\"color: #00d7ff; text-decoration-color: #00d7ff\">None</span>, <span style=\"color: #00af00; text-decoration-color: #00af00\">1</span>)              │            <span style=\"color: #00af00; text-decoration-color: #00af00\">65</span> │\n",
       "└─────────────────────────────────┴────────────────────────┴───────────────┘\n",
       "</pre>\n"
      ],
      "text/plain": [
       "┏━━━━━━━━━━━━━━━━━━━━━━━━━━━━━━━━━┳━━━━━━━━━━━━━━━━━━━━━━━━┳━━━━━━━━━━━━━━━┓\n",
       "┃\u001b[1m \u001b[0m\u001b[1mLayer (type)                   \u001b[0m\u001b[1m \u001b[0m┃\u001b[1m \u001b[0m\u001b[1mOutput Shape          \u001b[0m\u001b[1m \u001b[0m┃\u001b[1m \u001b[0m\u001b[1m      Param #\u001b[0m\u001b[1m \u001b[0m┃\n",
       "┡━━━━━━━━━━━━━━━━━━━━━━━━━━━━━━━━━╇━━━━━━━━━━━━━━━━━━━━━━━━╇━━━━━━━━━━━━━━━┩\n",
       "│ conv2d (\u001b[38;5;33mConv2D\u001b[0m)                 │ (\u001b[38;5;45mNone\u001b[0m, \u001b[38;5;34m5\u001b[0m, \u001b[38;5;34m5\u001b[0m, \u001b[38;5;34m32\u001b[0m)       │           \u001b[38;5;34m320\u001b[0m │\n",
       "├─────────────────────────────────┼────────────────────────┼───────────────┤\n",
       "│ conv2d_1 (\u001b[38;5;33mConv2D\u001b[0m)               │ (\u001b[38;5;45mNone\u001b[0m, \u001b[38;5;34m3\u001b[0m, \u001b[38;5;34m3\u001b[0m, \u001b[38;5;34m64\u001b[0m)       │        \u001b[38;5;34m18,496\u001b[0m │\n",
       "├─────────────────────────────────┼────────────────────────┼───────────────┤\n",
       "│ flatten (\u001b[38;5;33mFlatten\u001b[0m)               │ (\u001b[38;5;45mNone\u001b[0m, \u001b[38;5;34m576\u001b[0m)            │             \u001b[38;5;34m0\u001b[0m │\n",
       "├─────────────────────────────────┼────────────────────────┼───────────────┤\n",
       "│ dense (\u001b[38;5;33mDense\u001b[0m)                   │ (\u001b[38;5;45mNone\u001b[0m, \u001b[38;5;34m64\u001b[0m)             │        \u001b[38;5;34m36,928\u001b[0m │\n",
       "├─────────────────────────────────┼────────────────────────┼───────────────┤\n",
       "│ dense_1 (\u001b[38;5;33mDense\u001b[0m)                 │ (\u001b[38;5;45mNone\u001b[0m, \u001b[38;5;34m1\u001b[0m)              │            \u001b[38;5;34m65\u001b[0m │\n",
       "└─────────────────────────────────┴────────────────────────┴───────────────┘\n"
      ]
     },
     "metadata": {},
     "output_type": "display_data"
    },
    {
     "data": {
      "text/html": [
       "<pre style=\"white-space:pre;overflow-x:auto;line-height:normal;font-family:Menlo,'DejaVu Sans Mono',consolas,'Courier New',monospace\"><span style=\"font-weight: bold\"> Total params: </span><span style=\"color: #00af00; text-decoration-color: #00af00\">55,809</span> (218.00 KB)\n",
       "</pre>\n"
      ],
      "text/plain": [
       "\u001b[1m Total params: \u001b[0m\u001b[38;5;34m55,809\u001b[0m (218.00 KB)\n"
      ]
     },
     "metadata": {},
     "output_type": "display_data"
    },
    {
     "data": {
      "text/html": [
       "<pre style=\"white-space:pre;overflow-x:auto;line-height:normal;font-family:Menlo,'DejaVu Sans Mono',consolas,'Courier New',monospace\"><span style=\"font-weight: bold\"> Trainable params: </span><span style=\"color: #00af00; text-decoration-color: #00af00\">55,809</span> (218.00 KB)\n",
       "</pre>\n"
      ],
      "text/plain": [
       "\u001b[1m Trainable params: \u001b[0m\u001b[38;5;34m55,809\u001b[0m (218.00 KB)\n"
      ]
     },
     "metadata": {},
     "output_type": "display_data"
    },
    {
     "data": {
      "text/html": [
       "<pre style=\"white-space:pre;overflow-x:auto;line-height:normal;font-family:Menlo,'DejaVu Sans Mono',consolas,'Courier New',monospace\"><span style=\"font-weight: bold\"> Non-trainable params: </span><span style=\"color: #00af00; text-decoration-color: #00af00\">0</span> (0.00 B)\n",
       "</pre>\n"
      ],
      "text/plain": [
       "\u001b[1m Non-trainable params: \u001b[0m\u001b[38;5;34m0\u001b[0m (0.00 B)\n"
      ]
     },
     "metadata": {},
     "output_type": "display_data"
    },
    {
     "name": "stdout",
     "output_type": "stream",
     "text": [
      "Epoch 1/20\n",
      "\u001b[1m16240/16240\u001b[0m \u001b[32m━━━━━━━━━━━━━━━━━━━━\u001b[0m\u001b[37m\u001b[0m \u001b[1m95s\u001b[0m 6ms/step - accuracy: 0.8101 - balanced_accuracy: 0.5000 - loss: 0.4084 - val_accuracy: 0.7613 - val_balanced_accuracy: 0.5000 - val_loss: 0.5333 - learning_rate: 0.0010\n",
      "Epoch 2/20\n",
      "\u001b[1m16240/16240\u001b[0m \u001b[32m━━━━━━━━━━━━━━━━━━━━\u001b[0m\u001b[37m\u001b[0m \u001b[1m95s\u001b[0m 6ms/step - accuracy: 0.8252 - balanced_accuracy: 0.5000 - loss: 0.3790 - val_accuracy: 0.7691 - val_balanced_accuracy: 0.5000 - val_loss: 0.5001 - learning_rate: 0.0010\n",
      "Epoch 3/20\n",
      "\u001b[1m16240/16240\u001b[0m \u001b[32m━━━━━━━━━━━━━━━━━━━━\u001b[0m\u001b[37m\u001b[0m \u001b[1m82s\u001b[0m 5ms/step - accuracy: 0.8303 - balanced_accuracy: 0.5000 - loss: 0.3695 - val_accuracy: 0.7742 - val_balanced_accuracy: 0.5000 - val_loss: 0.4928 - learning_rate: 0.0010\n",
      "Epoch 4/20\n",
      "\u001b[1m16240/16240\u001b[0m \u001b[32m━━━━━━━━━━━━━━━━━━━━\u001b[0m\u001b[37m\u001b[0m \u001b[1m85s\u001b[0m 5ms/step - accuracy: 0.8327 - balanced_accuracy: 0.5000 - loss: 0.3646 - val_accuracy: 0.7718 - val_balanced_accuracy: 0.5000 - val_loss: 0.4989 - learning_rate: 0.0010\n",
      "Epoch 5/20\n",
      "\u001b[1m16240/16240\u001b[0m \u001b[32m━━━━━━━━━━━━━━━━━━━━\u001b[0m\u001b[37m\u001b[0m \u001b[1m79s\u001b[0m 5ms/step - accuracy: 0.8355 - balanced_accuracy: 0.5000 - loss: 0.3600 - val_accuracy: 0.7763 - val_balanced_accuracy: 0.5000 - val_loss: 0.4881 - learning_rate: 0.0010\n",
      "Epoch 6/20\n",
      "\u001b[1m16240/16240\u001b[0m \u001b[32m━━━━━━━━━━━━━━━━━━━━\u001b[0m\u001b[37m\u001b[0m \u001b[1m59s\u001b[0m 4ms/step - accuracy: 0.8373 - balanced_accuracy: 0.5024 - loss: 0.3557 - val_accuracy: 0.7800 - val_balanced_accuracy: 0.5000 - val_loss: 0.4826 - learning_rate: 0.0010\n",
      "Epoch 7/20\n",
      "\u001b[1m16240/16240\u001b[0m \u001b[32m━━━━━━━━━━━━━━━━━━━━\u001b[0m\u001b[37m\u001b[0m \u001b[1m50s\u001b[0m 3ms/step - accuracy: 0.8405 - balanced_accuracy: 0.5127 - loss: 0.3514 - val_accuracy: 0.7777 - val_balanced_accuracy: 0.5000 - val_loss: 0.4842 - learning_rate: 0.0010\n",
      "Epoch 8/20\n",
      "\u001b[1m16240/16240\u001b[0m \u001b[32m━━━━━━━━━━━━━━━━━━━━\u001b[0m\u001b[37m\u001b[0m \u001b[1m50s\u001b[0m 3ms/step - accuracy: 0.8418 - balanced_accuracy: 0.5267 - loss: 0.3490 - val_accuracy: 0.7824 - val_balanced_accuracy: 0.5001 - val_loss: 0.4784 - learning_rate: 0.0010\n",
      "Epoch 9/20\n",
      "\u001b[1m16240/16240\u001b[0m \u001b[32m━━━━━━━━━━━━━━━━━━━━\u001b[0m\u001b[37m\u001b[0m \u001b[1m49s\u001b[0m 3ms/step - accuracy: 0.8429 - balanced_accuracy: 0.5363 - loss: 0.3470 - val_accuracy: 0.7833 - val_balanced_accuracy: 0.5001 - val_loss: 0.4753 - learning_rate: 0.0010\n",
      "Epoch 10/20\n",
      "\u001b[1m16240/16240\u001b[0m \u001b[32m━━━━━━━━━━━━━━━━━━━━\u001b[0m\u001b[37m\u001b[0m \u001b[1m48s\u001b[0m 3ms/step - accuracy: 0.8450 - balanced_accuracy: 0.5583 - loss: 0.3430 - val_accuracy: 0.7828 - val_balanced_accuracy: 0.5001 - val_loss: 0.4765 - learning_rate: 0.0010\n",
      "Epoch 11/20\n",
      "\u001b[1m16240/16240\u001b[0m \u001b[32m━━━━━━━━━━━━━━━━━━━━\u001b[0m\u001b[37m\u001b[0m \u001b[1m49s\u001b[0m 3ms/step - accuracy: 0.8459 - balanced_accuracy: 0.5959 - loss: 0.3407 - val_accuracy: 0.7865 - val_balanced_accuracy: 0.5005 - val_loss: 0.4716 - learning_rate: 0.0010\n",
      "Epoch 12/20\n",
      "\u001b[1m16240/16240\u001b[0m \u001b[32m━━━━━━━━━━━━━━━━━━━━\u001b[0m\u001b[37m\u001b[0m \u001b[1m50s\u001b[0m 3ms/step - accuracy: 0.8474 - balanced_accuracy: 0.6431 - loss: 0.3390 - val_accuracy: 0.7855 - val_balanced_accuracy: 0.5007 - val_loss: 0.4752 - learning_rate: 0.0010\n",
      "Epoch 13/20\n",
      "\u001b[1m16240/16240\u001b[0m \u001b[32m━━━━━━━━━━━━━━━━━━━━\u001b[0m\u001b[37m\u001b[0m \u001b[1m52s\u001b[0m 3ms/step - accuracy: 0.8488 - balanced_accuracy: 0.6497 - loss: 0.3367 - val_accuracy: 0.7850 - val_balanced_accuracy: 0.5006 - val_loss: 0.4754 - learning_rate: 0.0010\n",
      "Epoch 14/20\n",
      "\u001b[1m16240/16240\u001b[0m \u001b[32m━━━━━━━━━━━━━━━━━━━━\u001b[0m\u001b[37m\u001b[0m \u001b[1m51s\u001b[0m 3ms/step - accuracy: 0.8497 - balanced_accuracy: 0.6853 - loss: 0.3341 - val_accuracy: 0.7865 - val_balanced_accuracy: 0.5008 - val_loss: 0.4705 - learning_rate: 0.0010\n",
      "Epoch 15/20\n",
      "\u001b[1m16240/16240\u001b[0m \u001b[32m━━━━━━━━━━━━━━━━━━━━\u001b[0m\u001b[37m\u001b[0m \u001b[1m53s\u001b[0m 3ms/step - accuracy: 0.8508 - balanced_accuracy: 0.6654 - loss: 0.3320 - val_accuracy: 0.7857 - val_balanced_accuracy: 0.5009 - val_loss: 0.4738 - learning_rate: 0.0010\n",
      "Epoch 16/20\n",
      "\u001b[1m16240/16240\u001b[0m \u001b[32m━━━━━━━━━━━━━━━━━━━━\u001b[0m\u001b[37m\u001b[0m \u001b[1m52s\u001b[0m 3ms/step - accuracy: 0.8523 - balanced_accuracy: 0.6585 - loss: 0.3296 - val_accuracy: 0.7874 - val_balanced_accuracy: 0.5019 - val_loss: 0.4715 - learning_rate: 0.0010\n",
      "Epoch 17/20\n",
      "\u001b[1m16240/16240\u001b[0m \u001b[32m━━━━━━━━━━━━━━━━━━━━\u001b[0m\u001b[37m\u001b[0m \u001b[1m65s\u001b[0m 4ms/step - accuracy: 0.8533 - balanced_accuracy: 0.7232 - loss: 0.3273 - val_accuracy: 0.7870 - val_balanced_accuracy: 0.5011 - val_loss: 0.4715 - learning_rate: 0.0010\n",
      "Epoch 18/20\n",
      "\u001b[1m16240/16240\u001b[0m \u001b[32m━━━━━━━━━━━━━━━━━━━━\u001b[0m\u001b[37m\u001b[0m \u001b[1m64s\u001b[0m 4ms/step - accuracy: 0.8537 - balanced_accuracy: 0.6879 - loss: 0.3265 - val_accuracy: 0.7869 - val_balanced_accuracy: 0.5012 - val_loss: 0.4725 - learning_rate: 0.0010\n",
      "Epoch 19/20\n",
      "\u001b[1m16240/16240\u001b[0m \u001b[32m━━━━━━━━━━━━━━━━━━━━\u001b[0m\u001b[37m\u001b[0m \u001b[1m51s\u001b[0m 3ms/step - accuracy: 0.8543 - balanced_accuracy: 0.6840 - loss: 0.3250 - val_accuracy: 0.7873 - val_balanced_accuracy: 0.5019 - val_loss: 0.4717 - learning_rate: 0.0010\n",
      "Epoch 20/20\n",
      "\u001b[1m16240/16240\u001b[0m \u001b[32m━━━━━━━━━━━━━━━━━━━━\u001b[0m\u001b[37m\u001b[0m \u001b[1m86s\u001b[0m 5ms/step - accuracy: 0.8555 - balanced_accuracy: 0.7037 - loss: 0.3236 - val_accuracy: 0.7853 - val_balanced_accuracy: 0.5017 - val_loss: 0.4740 - learning_rate: 0.0010\n"
     ]
    }
   ],
   "source": [
    "# Set up the model\n",
    "model_CNN = Sequential()\n",
    "model_CNN.add(Conv2D(32, kernel_size=(3, 3), activation='relu', input_shape=(7, 7, 1)))\n",
    "#model_CNN.add(MaxPooling2D(pool_size=(2, 2)))\n",
    "#model_CNN.add(Dropout(0.5))\n",
    "model_CNN.add(Conv2D(64, kernel_size=(3, 3), activation='relu'))\n",
    "#model_CNN.add(Conv2D(32, kernel_size=(3, 3), activation='relu'))\n",
    "#model_CNN.add(MaxPooling2D(pool_size=(2, 2)))\n",
    "#model_CNN.add(Dropout(0.5))\n",
    "#model_CNN.add(Conv2D(16, kernel_size=(3, 3), activation='relu'))\n",
    "model_CNN.add(Flatten())\n",
    "model_CNN.add(Dense(64, activation='relu'))\n",
    "#model_CNN.add(Dropout(0.3))\n",
    "model_CNN.add(Dense(1, activation='sigmoid'))\n",
    "\n",
    "# Define the balanced accuracy metric\n",
    "def balanced_accuracy(y_true, y_pred):\n",
    "    #y_true = tf.argmax(y_true, axis=1)\n",
    "    #y_pred = tf.argmax(y_pred, axis=1)\n",
    "    # Compute confusion matrix\n",
    "    cm = tf.math.confusion_matrix(y_true, y_pred, num_classes=2)\n",
    "    tp = tf.cast(cm[1, 1], tf.float32)  # True Positive\n",
    "    tn = tf.cast(cm[0, 0], tf.float32)  # True Negative\n",
    "    fp = tf.cast(cm[0, 1], tf.float32)  # False Positive\n",
    "    fn = tf.cast(cm[1, 0], tf.float32)  # False Negative\n",
    "    # True Positive Rate\n",
    "    sensitivity = tp / (tp + fn + tf.keras.backend.epsilon())\n",
    "    # True Negative Rate\n",
    "    specificity = tn / (tn + fp + tf.keras.backend.epsilon())\n",
    "    return (sensitivity + specificity) / 2  # Average of both rates\n",
    "\n",
    "# Compile the model\n",
    "model_CNN.compile(optimizer='adam', loss='binary_crossentropy', metrics=['accuracy', balanced_accuracy])\n",
    "\n",
    "# Summary of the model\n",
    "model_CNN.summary()\n",
    "\n",
    "# Reshape X_train and X_val to (num_samples, 7, 7, 1)\n",
    "X_train = X_train.reshape(-1, 7, 7, 1)\n",
    "X_val = X_val.reshape(-1, 7, 7, 1)\n",
    "\n",
    "# Fit the model \n",
    "#early_stopping = EarlyStopping(monitor='val_loss', patience=10, restore_best_weights=True)\n",
    "reduce_lr = ReduceLROnPlateau(monitor='accuracy', factor=0.5, patience=5, min_lr=1e-6)\n",
    "\n",
    "#callbacks=[reduce_lr, metrics, early_stopping]\n",
    "\n",
    "history = model_CNN.fit(X_train, y_train, batch_size=64,\n",
    "                         epochs=20,\n",
    "                         validation_data=(X_val, y_val),\n",
    "                         callbacks=[reduce_lr],\n",
    "                         verbose=1)"
   ]
  },
  {
   "cell_type": "code",
   "execution_count": null,
   "metadata": {},
   "outputs": [],
   "source": [
    "reduce_lr = ReduceLROnPlateau(monitor='accuracy', factor=0.5, patience=5, min_lr=1e-6)\n",
    "\n",
    "history = model_CNN.fit(X_train, y_train, batch_size=64,\n",
    "                         epochs=20,\n",
    "                         validation_data=(X_val, y_val),\n",
    "                         callbacks=[reduce_lr],\n",
    "                         verbose=1)"
   ]
  }
 ],
 "metadata": {
  "kernelspec": {
   "display_name": "Python 3",
   "language": "python",
   "name": "python3"
  },
  "language_info": {
   "codemirror_mode": {
    "name": "ipython",
    "version": 3
   },
   "file_extension": ".py",
   "mimetype": "text/x-python",
   "name": "python",
   "nbconvert_exporter": "python",
   "pygments_lexer": "ipython3",
   "version": "3.10.0"
  }
 },
 "nbformat": 4,
 "nbformat_minor": 2
}
