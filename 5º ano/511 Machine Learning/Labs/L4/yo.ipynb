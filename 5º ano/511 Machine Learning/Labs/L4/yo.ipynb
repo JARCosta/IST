{
 "cells": [
  {
   "cell_type": "code",
   "execution_count": 2,
   "metadata": {},
   "outputs": [],
   "source": [
    "import numpy as np\n",
    "from sklearn.linear_model import LinearRegression, Ridge, Lasso\n",
    "import matplotlib.pyplot as plt\n",
    "import keras"
   ]
  },
  {
   "cell_type": "code",
   "execution_count": 3,
   "metadata": {},
   "outputs": [],
   "source": [
    "x_train = np.load('Xtrain1.npy')\n",
    "y_train = np.load('Ytrain1.npy')\n",
    "x_train_extra = np.load('Xtrain1_extra.npy')\n",
    "x_test = np.load('Xtest1.npy')"
   ]
  },
  {
   "cell_type": "code",
   "execution_count": 21,
   "metadata": {},
   "outputs": [
    {
     "name": "stdout",
     "output_type": "stream",
     "text": [
      "(2783, 2304)\n"
     ]
    }
   ],
   "source": [
    "print(x_train.shape)"
   ]
  },
  {
   "cell_type": "code",
   "execution_count": 20,
   "metadata": {},
   "outputs": [
    {
     "name": "stdout",
     "output_type": "stream",
     "text": [
      "Ones: 1777.0 \n",
      "Zeros: 1006.0\n"
     ]
    }
   ],
   "source": [
    "# for i in x_train:\n",
    "#     print(str(list(i.astype('float32')/255.0)))\n",
    "\n",
    "print(\n",
    "    \"Ones:\", y_train.mean() * len(y_train), \n",
    "    \"\\nZeros:\", len(y_train) - y_train.mean() * len(y_train))"
   ]
  },
  {
   "cell_type": "code",
   "execution_count": 22,
   "metadata": {},
   "outputs": [
    {
     "name": "stdout",
     "output_type": "stream",
     "text": [
      "(904, 2304)\n"
     ]
    }
   ],
   "source": [
    "print(x_train_extra.shape)"
   ]
  },
  {
   "cell_type": "code",
   "execution_count": null,
   "metadata": {},
   "outputs": [],
   "source": [
    "ConfusionMatrix = np.zeros((2,2))\n",
    "TP = 0\n",
    "TN = 0\n",
    "FP = 0\n",
    "FN = 0\n",
    "ConfusionMatrix = np.array([\n",
    "        [TP, FP],\n",
    "        [FN, TN]\n",
    "    ])\n",
    "\n",
    "Acc = (TP+TN)/(TP+TN+FP+FN)\n",
    "Prec = TP/(TP+FP)\n",
    "Rec = TP/(TP+FN)\n",
    "F1 = 2*(Prec*Rec)/(Prec+Rec)\n",
    "BalAcc = 0.5*((TP/(TP+FN))+(TN/(TN+FP)))"
   ]
  },
  {
   "cell_type": "code",
   "execution_count": null,
   "metadata": {},
   "outputs": [],
   "source": [
    "\n",
    "from sklearn.model_selection import train_test_split\n",
    "\n",
    "\n",
    "train_images = (x_train).astype('float32')/255.0\n",
    "train_labels = keras.utils.to_categorical(y_train,2)\n",
    "\n",
    "\n",
    "X_train, X_val, y_train, y_val = train_test_split(train_images, train_labels, test_size=0.2)"
   ]
  }
 ],
 "metadata": {
  "kernelspec": {
   "display_name": "Python 3",
   "language": "python",
   "name": "python3"
  },
  "language_info": {
   "codemirror_mode": {
    "name": "ipython",
    "version": 3
   },
   "file_extension": ".py",
   "mimetype": "text/x-python",
   "name": "python",
   "nbconvert_exporter": "python",
   "pygments_lexer": "ipython3",
   "version": "3.10.0"
  }
 },
 "nbformat": 4,
 "nbformat_minor": 2
}
