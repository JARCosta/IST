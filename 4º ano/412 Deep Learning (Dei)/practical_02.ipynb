{
 "cells": [
  {
   "cell_type": "markdown",
   "metadata": {},
   "source": [
    "# Perceptron\n",
    "\n",
    "Answer all marked questions (❓).  "
   ]
  },
  {
   "cell_type": "code",
   "execution_count": 1,
   "metadata": {},
   "outputs": [],
   "source": [
    "import numpy as np\n",
    "import matplotlib.pyplot as plt\n",
    "%matplotlib inline"
   ]
  },
  {
   "cell_type": "markdown",
   "metadata": {},
   "source": [
    "## Question 1"
   ]
  },
  {
   "cell_type": "markdown",
   "metadata": {},
   "source": [
    "Consider the following linearly separable training set:\n",
    "\n",
    "$\\mathbf{x^{(1)}} =\\begin{bmatrix} -1 \\\\ 0  \\\\ \\end{bmatrix} $,  $\\mathbf{x^{(2)}} =\\begin{bmatrix} 0 \\\\ 0.25  \\\\ \\end{bmatrix} $,   $\\mathbf{x^{(3)}} =\\begin{bmatrix} 1 \\\\ 1 \\\\ \\end{bmatrix} $,      $\\mathbf{x^{(4)}} =\\begin{bmatrix} 1 \\\\ -1  \\\\ \\end{bmatrix} $\n",
    "\n",
    "$y^{(1)} = -1$, $y^{(2)} = +1$, $y^{(3)} = +1$, $y^{(4)} = -1$\n"
   ]
  },
  {
   "cell_type": "code",
   "execution_count": 2,
   "metadata": {},
   "outputs": [
    {
     "name": "stdout",
     "output_type": "stream",
     "text": [
      "(4, 3)\n"
     ]
    }
   ],
   "source": [
    "# Define points\n",
    "inputs = np.array([[-1, 0], [0, 0.25], [1, 1], [1, -1]])\n",
    "labels = np.array([-1, 1, 1, -1])\n",
    "\n",
    "num_examples, num_features = np.shape(inputs)\n",
    "\n",
    "# Augment points with a dimension for the bias.\n",
    "inputs = np.concatenate([np.ones((num_examples, 1)), inputs], axis=1)\n",
    "\n",
    "print(np.shape(inputs))"
   ]
  },
  {
   "cell_type": "markdown",
   "metadata": {},
   "source": [
    "❓ Let us use the perceptron algorithm to separate the two classes of points.\n",
    "\n",
    "1. Initialize all weights to zero (including the bias) \n",
    "2. Assume $sign(z) = +1$ iff $z ≥ 0$, and $−1$ if $z < 0$ \n",
    "3. Complete provided fucntion `perceptron_epoch` which performs one epoch of the perceptron algorithm\n",
    "4. Use a learning rate of one\n",
    "5. Apply algorithm until convergence \n",
    "\n",
    "Note: You can use provided function `plot_separation_line` to see the points and the separating hyperplane in each epoch"
   ]
  },
  {
   "cell_type": "code",
   "execution_count": 9,
   "metadata": {},
   "outputs": [],
   "source": [
    "\"\"\"\n",
    "Function to execute perceptron epoch. \n",
    "\n",
    "Receives inputs, labels, previous weights (w) and learning rate(eta)\n",
    "\n",
    "Should output number of mistakes and new weights\n",
    "\"\"\"\n",
    "\n",
    "def perceptron_epoch(inputs, labels, w, eta):\n",
    "    mistakes = 0\n",
    "    \n",
    "    for el in inputs:\n",
    "        \n",
    "    # TODO: Fill in with code\n",
    "    \n",
    "    print(\"Mistakes: %d\" % mistakes)\n",
    "    return mistakes, w"
   ]
  },
  {
   "cell_type": "code",
   "execution_count": 10,
   "metadata": {},
   "outputs": [],
   "source": [
    "# Plot separation line associated with model w, along with the data.\n",
    "def plot_separation_line(inputs, labels, w):\n",
    "    # Plot data.\n",
    "    plt.plot(inputs[labels == -1, 1], inputs[labels == -1, 2], \"b.\")\n",
    "    plt.plot(inputs[labels == 1, 1], inputs[labels == 1, 2], \"r.\")\n",
    "    # Plot model separation line.\n",
    "    x1 = np.array([-2, 2])\n",
    "    x2 = (-w[0] - w[1]*x1) / w[2]\n",
    "    plt.plot(x1, x2, 'k--')\n",
    "    plt.show()"
   ]
  },
  {
   "cell_type": "code",
   "execution_count": 11,
   "metadata": {},
   "outputs": [],
   "source": [
    "# TODO: Inititalize weights and apply algorithm until convergence\n"
   ]
  },
  {
   "cell_type": "markdown",
   "metadata": {},
   "source": [
    "❓ What is the perceptron output for query point $\\begin{bmatrix} 0 && 1   \\end{bmatrix}^T$?"
   ]
  },
  {
   "cell_type": "code",
   "execution_count": 12,
   "metadata": {},
   "outputs": [],
   "source": [
    "# TODO"
   ]
  },
  {
   "cell_type": "markdown",
   "metadata": {},
   "source": [
    "❓ Change the initialization of weights and biases to be random with a standard normal distribution $\\mathcal{N}(0,1)$. Try multiple times. Does it always converge?\n",
    "\n",
    "*Hint:* `np.random.randn`"
   ]
  },
  {
   "cell_type": "code",
   "execution_count": 13,
   "metadata": {},
   "outputs": [],
   "source": [
    "# TODO\n"
   ]
  },
  {
   "cell_type": "markdown",
   "metadata": {},
   "source": [
    "## Question 2 "
   ]
  },
  {
   "cell_type": "markdown",
   "metadata": {},
   "source": [
    "Let us generate a balanced dataset with 30 examples in $\\mathbb{R}^2$ and 3 classes. \n",
    "Assume each of the 10 inputs associated to class $k \\in \\{0,1,2\\}$ is generated as $x \\sim \\mathcal{N}(\\mu_k, \\sigma_k^2 I)$, with $\\sigma_0=\\sigma_1=\\sigma_2 = 1$, \n",
    "$\\mu_0 = [0, 0]^\\top$, $\\mu_1 = [0, 3]^\\top$, and $\\mu_2 = [2, 2]^\\top$.\n",
    "\n",
    "❓ Plot the data"
   ]
  },
  {
   "cell_type": "code",
   "execution_count": 14,
   "metadata": {},
   "outputs": [],
   "source": [
    "inputs0 = np.array([0, 0]) + np.random.randn(10, 2)\n",
    "inputs1 = np.array([0, 3]) + np.random.randn(10, 2)\n",
    "inputs2 = np.array([2, 2]) + np.random.randn(10, 2)\n",
    "\n",
    "inputs = np.concatenate([inputs0, inputs1, inputs2], axis=0)\n",
    "\n",
    "labels = np.array([0]*10 + [1]*10 + [2]*10)\n",
    "\n",
    "# Shuffling observations\n",
    "ind = np.random.permutation(30)\n",
    "inputs = inputs[ind, :]\n",
    "labels = labels[ind]"
   ]
  },
  {
   "cell_type": "code",
   "execution_count": 15,
   "metadata": {},
   "outputs": [],
   "source": [
    "# TODO: plot data"
   ]
  },
  {
   "cell_type": "markdown",
   "metadata": {},
   "source": [
    "❓ Implement the multi-class perceptron algorithm by completing the `multi_class_perceptron_epoch` function. \n",
    "\n",
    "❓ Complete function `multi_class_classify` so that it provides the predicted labels given the inputs and the weights.\n",
    "\n",
    "❓ Create or import a function that computes accuracy given the arrays of predicted and correct labels.\n",
    "\n",
    "❓ Run 100 iterations of the algorithm, initializing all the weights to zero and using a learning rate of one. Save the accuracy of each epoch in a list. \n",
    "\n",
    "❓ What is the training accuracy (fraction of points that are correctly classified)?\n",
    "\n",
    "❓ Plot the accuracies over epochs.\n",
    "\n",
    "Note: Don't forget you have to augment the `inputs` with a dimension for the bias!"
   ]
  },
  {
   "cell_type": "code",
   "execution_count": 17,
   "metadata": {},
   "outputs": [],
   "source": [
    "def multi_class_perceptron_epoch(inputs, labels, W, eta=1):\n",
    "    mistakes = 0\n",
    "    for x, y in zip(inputs, labels):\n",
    "        \n",
    "        # TODO: complete with perceptron algorithm\n",
    "        \n",
    "        pass\n",
    "    print(\"Mistakes: %d\" % mistakes)\n",
    "    return W"
   ]
  },
  {
   "cell_type": "code",
   "execution_count": 18,
   "metadata": {},
   "outputs": [],
   "source": [
    "def multi_class_classify(inputs, W):\n",
    "    \n",
    "    # TODO: complete \n",
    "    \n",
    "    return predicted_labels"
   ]
  },
  {
   "cell_type": "code",
   "execution_count": 27,
   "metadata": {},
   "outputs": [],
   "source": [
    "# TODO: function to compute accuracy"
   ]
  },
  {
   "cell_type": "code",
   "execution_count": 19,
   "metadata": {},
   "outputs": [],
   "source": [
    "# TODO: Run algorithm, compute final accuracies, plot accuracies over epochs"
   ]
  },
  {
   "cell_type": "markdown",
   "metadata": {},
   "source": [
    "## Question 3\n",
    "\n",
    "Now it's time to try the perceptron on real data and see what happens.  \n",
    "\n",
    "Let's load the UCI handwritten digits dataset using `scikit-learn`"
   ]
  },
  {
   "cell_type": "code",
   "execution_count": 20,
   "metadata": {},
   "outputs": [],
   "source": [
    "from sklearn.datasets import load_digits\n",
    "data = load_digits()"
   ]
  },
  {
   "cell_type": "code",
   "execution_count": 21,
   "metadata": {},
   "outputs": [],
   "source": [
    "X = data['data']\n",
    "y = data['target']"
   ]
  },
  {
   "cell_type": "code",
   "execution_count": 22,
   "metadata": {},
   "outputs": [],
   "source": [
    "num_examples, num_features = np.shape(X)\n",
    "num_labels = np.max(y)+1  # labels are 0, 1, ..., num_labels-1\n",
    "\n",
    "# Augment points with a dimension for the bias.\n",
    "X = np.concatenate([np.ones((num_examples, 1)), X], axis=1)"
   ]
  },
  {
   "cell_type": "markdown",
   "metadata": {},
   "source": [
    "This is a dataset containing $1797$ 8x8 input images of digits, each corresponding to one out of 10 output classes. \n",
    "You can print the dataset description with `print(data.DESCR)\n",
    "` and visualize some input examples:"
   ]
  },
  {
   "cell_type": "code",
   "execution_count": 23,
   "metadata": {},
   "outputs": [
    {
     "data": {
      "text/plain": [
       "<Figure size 432x288 with 0 Axes>"
      ]
     },
     "metadata": {},
     "output_type": "display_data"
    },
    {
     "data": {
      "image/png": "[encoded data removed]",
      "text/plain": [
       "<Figure size 288x288 with 1 Axes>"
      ]
     },
     "metadata": {
      "needs_background": "light"
     },
     "output_type": "display_data"
    },
    {
     "data": {
      "image/png": "[encoded data removed]",
      "text/plain": [
       "<Figure size 288x288 with 1 Axes>"
      ]
     },
     "metadata": {
      "needs_background": "light"
     },
     "output_type": "display_data"
    },
    {
     "data": {
      "image/png": "[encoded data removed]",
      "text/plain": [
       "<Figure size 288x288 with 1 Axes>"
      ]
     },
     "metadata": {
      "needs_background": "light"
     },
     "output_type": "display_data"
    }
   ],
   "source": [
    "import matplotlib.pyplot as plt\n",
    "plt.gray()\n",
    "for i in range(3):\n",
    "    plt.matshow(data.images[i])\n",
    "plt.show()"
   ]
  },
  {
   "cell_type": "markdown",
   "metadata": {},
   "source": [
    "We randomly split this data into training (80\\%) and test (20\\%) partitions. This can be done with:"
   ]
  },
  {
   "cell_type": "code",
   "execution_count": 24,
   "metadata": {},
   "outputs": [],
   "source": [
    "from sklearn.model_selection import train_test_split\n",
    "X_train, X_test, y_train, y_test = train_test_split(\n",
    "    X, y, test_size=0.2, random_state=42)"
   ]
  },
  {
   "cell_type": "markdown",
   "metadata": {},
   "source": [
    "❓ Run your implementation of the multi-class perceptron algorithm on this dataset. Measure the training and test accuracy. "
   ]
  },
  {
   "cell_type": "code",
   "execution_count": 25,
   "metadata": {},
   "outputs": [],
   "source": [
    "# TODO"
   ]
  },
  {
   "cell_type": "markdown",
   "metadata": {},
   "source": [
    "Let's use `scikit-learn`'s implementation of the perceptron algorithm. You can check the [documentation](https://scikit-learn.org/stable/modules/generated/sklearn.linear_model.Perceptron.html) to understand what hyperparameters they are using and why the performances are different"
   ]
  },
  {
   "cell_type": "code",
   "execution_count": 26,
   "metadata": {},
   "outputs": [
    {
     "name": "stdout",
     "output_type": "stream",
     "text": [
      "0.9735560194850382\n",
      "0.9583333333333334\n"
     ]
    }
   ],
   "source": [
    "from sklearn.linear_model import Perceptron\n",
    "clf = Perceptron(fit_intercept=False, shuffle=False)\n",
    "clf.fit(X_train, y_train)\n",
    "print(clf.score(X_train, y_train))\n",
    "print(clf.score(X_test, y_test))"
   ]
  }
 ],
 "metadata": {
  "kernelspec": {
   "display_name": "Python 3",
   "language": "python",
   "name": "python3"
  },
  "language_info": {
   "codemirror_mode": {
    "name": "ipython",
    "version": 3
   },
   "file_extension": ".py",
   "mimetype": "text/x-python",
   "name": "python",
   "nbconvert_exporter": "python",
   "pygments_lexer": "ipython3",
   "version": "3.11.6"
  }
 },
 "nbformat": 4,
 "nbformat_minor": 4
}
