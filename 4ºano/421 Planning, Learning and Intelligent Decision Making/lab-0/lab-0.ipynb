{
 "cells": [
  {
   "cell_type": "markdown",
   "metadata": {},
   "source": [
    "# Learning and Decision Making"
   ]
  },
  {
   "cell_type": "markdown",
   "metadata": {},
   "source": [
    "## Laboratory 0: Introduction to scientific computation with Python\n",
    "\n",
    "Each lab handout will consist of a Jupyter notebook like the present one, and will initiate with the following saying:\n",
    "\n",
    "_\"In the end of the lab, you should export the notebook to a Python script (File >> Download as >> Python (.py)). Make sure that the resulting script includes all code written in the tasks marked as \"Activity n. XXX\", together with any replies to specific questions posed. Your file should be named `padi-labKK-groupXX.py`, where `KK` corresponds to the lab number and the `XX` corresponds to your group number. Similarly, your homework should consist of a single pdf file named `padi-hwKK-groupXX.pdf`. You should create a zip file with the lab and homework files and submit it in Fenix **at most 30 minutes after your lab is over**._\n",
    "\n",
    "_Make sure to strictly respect the specifications in each activity, in terms of the intended inputs, outputs and naming conventions._\n",
    "\n",
    "_In particular, after completing the activities you should be able to replicate the examples provided (although this, in itself, is no guarantee that the activities are correctly completed).\"_\n",
    "\n",
    "Today you can disregard the saying above ☺️\n",
    "\n",
    "### 1. Basic interaction\n",
    "\n",
    "When you are programming in a Jupyter notebook such as this, you will observe blocks of text preceeded by `In [ ]:` and `Out [ ]:`. These are blocks where you can insert Python code (the \"In\" blocks), and whose result you can observe as you press \"Shift+Enter\" (in the \"Out\" blocks).\n",
    "\n",
    "For example, try that in the block below."
   ]
  },
  {
   "cell_type": "code",
   "execution_count": 1,
   "metadata": {
    "ExecuteTime": {
     "end_time": "2023-02-23T17:28:32.392954Z",
     "start_time": "2023-02-23T17:28:32.389734Z"
    }
   },
   "outputs": [
    {
     "name": "stdout",
     "output_type": "stream",
     "text": [
      "Hello, world!\n"
     ]
    }
   ],
   "source": [
    "s = \"Hello, world!\"\n",
    "print(s)"
   ]
  },
  {
   "cell_type": "markdown",
   "metadata": {},
   "source": [
    "Since you are programming in Python, all your standard primitives are available. You can use conditionals, cycles, inputs and outputs, etc. You also have available all standard Python modules."
   ]
  },
  {
   "cell_type": "code",
   "execution_count": null,
   "metadata": {
    "ExecuteTime": {
     "end_time": "2023-02-23T17:28:34.865672Z",
     "start_time": "2023-02-23T17:28:32.397778Z"
    }
   },
   "outputs": [],
   "source": [
    "import math\n",
    "\n",
    "a = 0\n",
    "\n",
    "# Print a radian --> degree conversion table\n",
    "while a < 2 * math.pi: \n",
    "    print(a, \"radians correspond to\", a * 180 / math.pi, \"degrees.\")\n",
    "    a = a + 0.5\n",
    "\n",
    "a = input(\"Please insert a number:\\n>> \")\n",
    "\n",
    "for i in range(5):\n",
    "    a = math.sqrt(float(a))\n",
    "    print(\"Next square root:\", a)\n",
    "\n",
    "if a > 1:\n",
    "    print(a, \"is larger than 1.\") \n",
    "else: \n",
    "    print(a, \"is smaller than or equal to 1.\")"
   ]
  },
  {
   "cell_type": "markdown",
   "metadata": {},
   "source": [
    "And, of course, you can define functions."
   ]
  },
  {
   "cell_type": "code",
   "execution_count": null,
   "metadata": {
    "ExecuteTime": {
     "end_time": "2023-02-23T17:28:34.871797Z",
     "start_time": "2023-02-23T17:28:34.868136Z"
    }
   },
   "outputs": [],
   "source": [
    "def square(x):\n",
    "    return x * x\n",
    "\n",
    "print(square(2))"
   ]
  },
  {
   "cell_type": "markdown",
   "metadata": {},
   "source": [
    "One important aspect that you should keep in mind is that running a notebook such as this one essentially corresponds to a sequential interaction with the Python interpreter---namely, the same scope rules apply. In particular, if you define a variable in a certain \"In\" block and run that block, that same variable will be accessible in posterior evaluations. Therefore, to avoid strange outputs resulting from \"legacy\" evaluations make sure that you evaluate the \"In\" blocks in sequence (by pressing Shift+Enter in each block) from scratch."
   ]
  },
  {
   "cell_type": "code",
   "execution_count": null,
   "metadata": {
    "ExecuteTime": {
     "end_time": "2023-02-23T17:28:34.884530Z",
     "start_time": "2023-02-23T17:28:34.879344Z"
    }
   },
   "outputs": [],
   "source": [
    "print(\"The variable s is accessible here:\", s)"
   ]
  },
  {
   "cell_type": "markdown",
   "metadata": {},
   "source": [
    "### 2. Matrices\n",
    "\n",
    "In your scientific computation you will use three main python libraries: **numpy**, **scipy** and **matplotlib**. The first contains a large collection of numeric types and functions, particularly for matrix manipulation. The second contains a large number of scientific computation utilities (such as optimization sub-modules, etc.). Finally, the third includes plotting functionalities. \n",
    "\n",
    "Your work in these labs will involve some level of data manipulation which is done, essentially, in the form of matrix manipulation. In particular, you will use the vast number of matrix manipulation operations offered by **numpy** that, if used proficiently, render computations significantly faster.\n",
    "\n",
    "Matrices in **numpy** are represented by the type `numpy.array`. The array is initialized as a list of lists, each corresponding to a row of the matrix. There are also several commands to create particular\n",
    "matrices, such as the identity (`eye`), an all-zeros matrix (`zeros`) or an all-ones matrix (`ones`). Note that, although a `numpy.matrix` type also exists, **we will not use it** and rather rely on the simpler `numpy.array`."
   ]
  },
  {
   "cell_type": "code",
   "execution_count": null,
   "metadata": {
    "ExecuteTime": {
     "end_time": "2023-02-23T17:28:39.064735Z",
     "start_time": "2023-02-23T17:28:34.890166Z"
    }
   },
   "outputs": [],
   "source": [
    "import numpy as np\n",
    "\n",
    "A1 = np.array([[1, 2, 3], [4, 5, 6]])\n",
    "print(\"2 x 3 array of numbers:\")\n",
    "print(A1)\n",
    "print(\"This array is of dimension\", A1.shape)"
   ]
  },
  {
   "cell_type": "code",
   "execution_count": null,
   "metadata": {
    "ExecuteTime": {
     "end_time": "2023-02-23T17:28:39.071679Z",
     "start_time": "2023-02-23T17:28:39.067022Z"
    }
   },
   "outputs": [],
   "source": [
    "A2 = np.eye(3)\n",
    "print(\"3 x 3 identity:\")\n",
    "print(A2)\n",
    "print(\"This array is of dimension\", A2.shape)"
   ]
  },
  {
   "cell_type": "code",
   "execution_count": null,
   "metadata": {
    "ExecuteTime": {
     "end_time": "2023-02-23T17:28:39.080543Z",
     "start_time": "2023-02-23T17:28:39.075045Z"
    }
   },
   "outputs": [],
   "source": [
    "A3 = np.zeros((2, 3))\n",
    "print(\"2 x 3 array of zeros:\")\n",
    "print(A3)\n",
    "print(\"This array is of dimension\", A3.shape)"
   ]
  },
  {
   "cell_type": "code",
   "execution_count": null,
   "metadata": {
    "ExecuteTime": {
     "end_time": "2023-02-23T17:28:39.087589Z",
     "start_time": "2023-02-23T17:28:39.082893Z"
    }
   },
   "outputs": [],
   "source": [
    "A4 = np.ones(4);\n",
    "print(\"4 x 0 array of ones (note how there is no second dimension):\")\n",
    "print(A4)\n",
    "print(\"This array is of dimension\", A4.shape)"
   ]
  },
  {
   "cell_type": "markdown",
   "metadata": {},
   "source": [
    "You can now easily perform standard algebraic operations, such as matrix sums or products. You can also perform indexing, slicing, and other operations, as illustrated in the following examples."
   ]
  },
  {
   "cell_type": "code",
   "execution_count": null,
   "metadata": {
    "ExecuteTime": {
     "end_time": "2023-02-23T17:28:39.112405Z",
     "start_time": "2023-02-23T17:28:39.102983Z"
    }
   },
   "outputs": [],
   "source": [
    "# = Matrix creation = #\n",
    "\n",
    "A = np.array([[1, 2, 3], [4, 5, 6], [7, 8, 9]])\n",
    "print(\"3 x 3 matrix:\")\n",
    "print(A)\n",
    "\n",
    "# You can explicitly indicate the array data type with the optional argument \"dtype\"\n",
    "print(A.dtype)\n",
    "\n",
    "A = np.array([[1, 2, 3], [4, 5, 6], [7, 8, 9]], dtype='float64')\n",
    "print(A)\n",
    "print(A.dtype)"
   ]
  },
  {
   "cell_type": "code",
   "execution_count": null,
   "metadata": {
    "ExecuteTime": {
     "end_time": "2023-02-23T17:28:39.124840Z",
     "start_time": "2023-02-23T17:28:39.118799Z"
    }
   },
   "outputs": [],
   "source": [
    "B = np.arange(1,4)\n",
    "print(\"Vector with all numbers between 1 and 3:\")\n",
    "print(B)"
   ]
  },
  {
   "cell_type": "code",
   "execution_count": null,
   "metadata": {
    "ExecuteTime": {
     "end_time": "2023-02-23T17:28:39.134911Z",
     "start_time": "2023-02-23T17:28:39.128913Z"
    }
   },
   "outputs": [],
   "source": [
    "C = np.diag(B)\n",
    "print(\"Diagonal matrix built from the vector B:\")\n",
    "print(C)"
   ]
  },
  {
   "cell_type": "code",
   "execution_count": null,
   "metadata": {
    "ExecuteTime": {
     "end_time": "2023-02-23T17:28:39.142852Z",
     "start_time": "2023-02-23T17:28:39.137099Z"
    }
   },
   "outputs": [],
   "source": [
    "# = Matrix operations = #\n",
    "\n",
    "# Sum\n",
    "D = A + np.eye(3)\n",
    "print(\"A + I:\")\n",
    "print(D)"
   ]
  },
  {
   "cell_type": "code",
   "execution_count": null,
   "metadata": {
    "ExecuteTime": {
     "end_time": "2023-02-23T17:28:39.158581Z",
     "start_time": "2023-02-23T17:28:39.151594Z"
    }
   },
   "outputs": [],
   "source": [
    "# Vector transpose and regular matrix product\n",
    "E = np.dot(A, B.T)\n",
    "print(\"A * B':\")\n",
    "print(E)"
   ]
  },
  {
   "cell_type": "code",
   "execution_count": null,
   "metadata": {
    "ExecuteTime": {
     "end_time": "2023-02-23T17:28:39.170984Z",
     "start_time": "2023-02-23T17:28:39.162710Z"
    }
   },
   "outputs": [],
   "source": [
    "# Matrix inverse\n",
    "F = np.linalg.inv(D)\n",
    "print(\"inv(D):\")\n",
    "print(F)"
   ]
  },
  {
   "cell_type": "code",
   "execution_count": null,
   "metadata": {
    "ExecuteTime": {
     "end_time": "2023-02-23T17:28:39.184153Z",
     "start_time": "2023-02-23T17:28:39.176731Z"
    }
   },
   "outputs": [],
   "source": [
    "# = Matrix concatenation = #\n",
    "\n",
    "G = np.append([1, 2, 3], A)\n",
    "print(\"Append matrix A to vector [1, 2, 3]:\")\n",
    "print(G)"
   ]
  },
  {
   "cell_type": "code",
   "execution_count": null,
   "metadata": {
    "ExecuteTime": {
     "end_time": "2023-02-23T17:28:39.193250Z",
     "start_time": "2023-02-23T17:28:39.186856Z"
    }
   },
   "outputs": [],
   "source": [
    "# When the axis to append is specified, the \n",
    "# matrices/vectors must have the correct shape\n",
    "\n",
    "H1 = np.append(A, [[10, 11, 12]], axis = 0)\n",
    "H2 = np.append(A, [[4], [7], [10]], axis = 1)\n",
    "print(\"Append [10, 11, 12] to A:\")\n",
    "print(H1)\n",
    "\n",
    "print(\"Append [[4], [7], [10]] to A:\")\n",
    "print(H2)"
   ]
  },
  {
   "cell_type": "code",
   "execution_count": null,
   "metadata": {
    "ExecuteTime": {
     "end_time": "2023-02-23T17:28:39.201692Z",
     "start_time": "2023-02-23T17:28:39.196098Z"
    }
   },
   "outputs": [],
   "source": [
    "# = Matrix indexing = #\n",
    "\n",
    "# Simple indexing\n",
    "print(\"A[0]:\", A[0])\n",
    "print(\"A[1]:\", A[1])\n",
    "print(\"A[1, 2]:\", A[1, 2])  # More efficient\n",
    "print(\"A[0][2]:\", A[0][2])  # Less efficient"
   ]
  },
  {
   "cell_type": "code",
   "execution_count": null,
   "metadata": {
    "ExecuteTime": {
     "end_time": "2023-02-23T17:28:39.209188Z",
     "start_time": "2023-02-23T17:28:39.203914Z"
    }
   },
   "outputs": [],
   "source": [
    "# -- Slicing\n",
    "\n",
    "# Rows between 1 and 2 (excluding the latter), \n",
    "# columns between 0 and 1 (excluding the latter)\n",
    "print(\"A[1:2,0:1]:\", A[1:2,0:1])\n",
    "\n",
    "# All rows except the last two,\n",
    "# every other column\n",
    "print(\"A[:-2,::2]:\", A[:-2,::2]) \n",
    "\n",
    "I = np.arange(10, 1, -1)\n",
    "print(\"Vector I, with numbers between 10 and 1:\")\n",
    "print(I)"
   ]
  },
  {
   "cell_type": "code",
   "execution_count": null,
   "metadata": {
    "ExecuteTime": {
     "end_time": "2023-02-23T17:28:39.215673Z",
     "start_time": "2023-02-23T17:28:39.211175Z"
    }
   },
   "outputs": [],
   "source": [
    "# -- Matrices as indices\n",
    "\n",
    "# Indexing with a list\n",
    "print(\"I[[3, 3, 1, 8]]:\", I[[3, 3, 1, 8]])\n",
    "\n",
    "# Indexing with an np.array\n",
    "print(\"I[np.array([3, 3, -3, 8])]:\", I[np.array([3, 3, -3, 8])])\n",
    "\n",
    "# Indexing with an 2D np.array\n",
    "print(\"I[np.array([[1, 1], [2, 3]])]:\", I[np.array([[1, 1], [2, 3]])])"
   ]
  },
  {
   "cell_type": "markdown",
   "metadata": {},
   "source": [
    "Several observations are in order:\n",
    "\n",
    "* The function `diag` can be used to build a diagonal matrix from a vector or extract a diagonal from a matrix. You can know more about this (and other) functions in numpy in the corresponding documentation or by using the help function. For example, to know more about the `diag` function, you can type `help(\"numpy.diag\")` in the Python prompt, to get something like:\n",
    "\n",
    "```\n",
    ">>> help(\"numpy.diag\")\n",
    "Help on function diag in numpy:\n",
    "\n",
    "numpy.diag = diag(v, k=0)\n",
    "    Extract a diagonal or construct a diagonal array.\n",
    "    \n",
    "    See the more detailed documentation for ``numpy.diagonal`` if you use this\n",
    "    function to extract a diagonal and wish to write to the resulting array;\n",
    "    whether it returns a copy or a view depends on what version of numpy you\n",
    "    are using.\n",
    "    \n",
    "    Parameters\n",
    "    ----------\n",
    "    v : array_like\n",
    "        If `v` is a 2-D array, return a copy of its `k`-th diagonal.\n",
    "        If `v` is a 1-D array, return a 2-D array with `v` on the `k`-th\n",
    "        diagonal.\n",
    "    k : int, optional\n",
    "        Diagonal in question. The default is 0. Use `k>0` for diagonals\n",
    "        above the main diagonal, and `k<0` for diagonals below the main\n",
    "        diagonal.\n",
    "    \n",
    "    Returns\n",
    "    -------\n",
    "    out : ndarray\n",
    "        The extracted diagonal or constructed diagonal array.\n",
    "    \n",
    "    See Also\n",
    "    --------\n",
    "    diagonal : Return specified diagonals.\n",
    "    diagflat : Create a 2-D array with the flattened input as a diagonal.\n",
    "    trace : Sum along diagonals.\n",
    "    triu : Upper triangle of an array.\n",
    "    tril : Lower triangle of an array.\n",
    "    \n",
    "    Examples\n",
    "    --------\n",
    "    >>> x = np.arange(9).reshape((3,3))\n",
    "    >>> x\n",
    "    array([[0, 1, 2],\n",
    "           [3, 4, 5],\n",
    "           [6, 7, 8]])\n",
    "    \n",
    "    >>> np.diag(x)\n",
    "    array([0, 4, 8])\n",
    "    >>> np.diag(x, k=1)\n",
    "    array([1, 5])\n",
    "    >>> np.diag(x, k=-1)\n",
    "    array([3, 7])\n",
    "    \n",
    "    >>> np.diag(np.diag(x))\n",
    "    array([[0, 0, 0],\n",
    "           [0, 4, 0],\n",
    "           [0, 0, 8]])\n",
    "```\n",
    "\n",
    "* You can add, multiply, transpose, invert matrices much as you would in linear algebra\n",
    "* Indexing and slicing are quite powerful operations. For example, you can use a matrix to index another.\n",
    "\n",
    "The ability to leverage the powerful indexing and vectorization capabilities of **numpy** is key to producing efficient code. It takes some time to get used to this programming philosophy, but once you do, you will notice an  improvement in the performance of your code. The impact of good vectorization in the efficiency of your code is illustrated in the following example."
   ]
  },
  {
   "cell_type": "code",
   "execution_count": null,
   "metadata": {
    "ExecuteTime": {
     "end_time": "2023-02-23T17:28:39.898494Z",
     "start_time": "2023-02-23T17:28:39.217339Z"
    }
   },
   "outputs": [],
   "source": [
    "import numpy.random as rnd\n",
    "import time\n",
    "\n",
    "A = rnd.rand(1000,1000)\n",
    "B = rnd.rand(1000,1000)\n",
    "C = np.zeros((1000,1000))\n",
    "\n",
    "t = time.time()\n",
    "\n",
    "for i in range(A.shape[0]):\n",
    "    for j in range(A.shape[1]):\n",
    "        C[i, j] = A[i, j] + B[i, j]\n",
    "    \n",
    "t1 = time.time() - t\n",
    "\n",
    "t = time.time()\n",
    "C = A + B\n",
    "t2 = time.time() - t\n",
    "\n",
    "print(\"Computation time with cycle (in seconds):\", t1)\n",
    "print(\"Computation time with numpy operation (in seconds):\", t2)"
   ]
  },
  {
   "cell_type": "markdown",
   "metadata": {},
   "source": [
    "Besides illustrating the importance of optimizing your code to take full advantage of its matrix manipulation capabilities, the previous example introduces several additional elements of the **numpy** syntax, such as the `rand` function from the **numpy.random** module."
   ]
  },
  {
   "cell_type": "markdown",
   "metadata": {},
   "source": [
    "The labs will consist of activities, marked in blocks titled **Activity XXX** like the one below. The activities in the lab today are just for fun---think of them as puzzles that allow you to practice some `numpy` programming. As such, no submission is necessary.\n",
    "\n",
    "---\n",
    "\n",
    "#### Activity 1.  Cycles vs vectorized operations      \n",
    "\n",
    "Compare the time necessary to compute the sum of two 100,000 &times; 1 random vectors using:\n",
    "\n",
    "* a for loop;\n",
    "* a vectorized operation.\n",
    "\n",
    "---"
   ]
  },
  {
   "cell_type": "code",
   "execution_count": 8,
   "metadata": {
    "ExecuteTime": {
     "end_time": "2023-02-23T17:28:39.904246Z",
     "start_time": "2023-02-23T17:28:39.901156Z"
    }
   },
   "outputs": [
    {
     "name": "stdout",
     "output_type": "stream",
     "text": [
      "Computation time with cycle (in seconds): 0.18346691131591797\n",
      "Computation time with numpy operation (in seconds): 0.0010075569152832031\n"
     ]
    }
   ],
   "source": [
    "# Insert your code here.\n",
    "import numpy as np\n",
    "\n",
    "import numpy.random as rnd\n",
    "import time\n",
    "\n",
    "A = rnd.rand(100000,1)\n",
    "B = rnd.rand(100000,1)\n",
    "C = np.zeros((100000,1))\n",
    "\n",
    "t = time.time()\n",
    "\n",
    "for i in range(A.shape[0]):\n",
    "    for j in range(A.shape[1]):\n",
    "        C[i, j] = A[i, j] + B[i, j]\n",
    "    \n",
    "t1 = time.time() - t\n",
    "\n",
    "t = time.time()\n",
    "C = A + B\n",
    "t2 = time.time() - t\n",
    "\n",
    "print(\"Computation time with cycle (in seconds):\", t1)\n",
    "print(\"Computation time with numpy operation (in seconds):\", t2)"
   ]
  },
  {
   "cell_type": "markdown",
   "metadata": {},
   "source": [
    "---\n",
    "\n",
    "#### Activity 2. Mountain car problem\n",
    "\n",
    "Consider a car with a weak engine going up a tall mountain, as depicted in the following diagram:\n",
    "\n",
    "<img src=\"mountain-car.png\">\n",
    "\n",
    "The velocity of the car is given by\n",
    "\n",
    "$$v(t+1)=v(t)-\\frac{1}{400}\\cos(3p(t))+\\frac{u(t)}{1000},\\qquad v(t)\\in[-0.07,0.07]$$\n",
    "\n",
    "where $p(t)$ is the position of the car at time step $t$ and $u(t)$ is the acceleration action, which can be $1$ (positive acceleration), $0$ (do nothing) or $-1$ (negative acceleration). The position of the car, in turn, is given by\n",
    "\n",
    "$$p(t+1)=p(t)+v(t+1),\\qquad p(t)\\in[-1.2,0.6].$$\n",
    "\n",
    "Suppose that the car starts at position $p(0)=-\\pi/3+0.6$ with a velocity of $v(0)=0$. \n",
    "\n",
    "Simulate a 1000-step trajectory of the car when $u(t)=1$ (always accelerate) for $t=0,\\ldots,1000$. To do so, build a for loop from $t=0$ to $t=1000$ and use the equations above to compute $p(t)$ and $v(t)$. \n",
    "\n",
    "**Note:** Store all values of $p$ and $v$. Also, make sure that $p$ and $v$ stay within the provided bounds.\n",
    "\n",
    "---"
   ]
  },
  {
   "cell_type": "code",
   "execution_count": 15,
   "metadata": {
    "ExecuteTime": {
     "end_time": "2023-02-23T17:28:39.909736Z",
     "start_time": "2023-02-23T17:28:39.907091Z"
    }
   },
   "outputs": [
    {
     "data": {
      "text/plain": [
       "[<matplotlib.lines.Line2D at 0x25c08378d50>]"
      ]
     },
     "execution_count": 15,
     "metadata": {},
     "output_type": "execute_result"
    },
    {
     "data": {
      "image/png": "[encoded data removed]",
      "text/plain": [
       "<Figure size 640x480 with 1 Axes>"
      ]
     },
     "metadata": {},
     "output_type": "display_data"
    }
   ],
   "source": [
    "# Insert your code here.\n",
    "\n",
    "import math\n",
    "\n",
    "f = {\n",
    "  \"t\" : 0,\n",
    "  \"p\" : 0.6 - (math.pi / 3),\n",
    "  \"v\" : 0,\n",
    "  \"u\" : 1.8\n",
    "}\n",
    "\n",
    "t = []\n",
    "p = []\n",
    "v = []\n",
    "\n",
    "\n",
    "for _ in range(1000):\n",
    "  # print(f.copy())\n",
    "\n",
    "  temp_v = f[\"v\"] - (1/400) * math.cos(3 * f[\"p\"]) + f[\"u\"]/1000\n",
    "  temp_p = f[\"p\"] + temp_v\n",
    "  temp_t = f[\"t\"] + 1\n",
    "  \n",
    "  # if not ( -0.07 < temp_v < 0.07):\n",
    "  #   print(\"Velocity fail at t = \", temp_t)\n",
    "  # if not ( -1.2 < temp_p < 0.6):\n",
    "  #   print(\"Position fail at t = \", temp_t)\n",
    "  \n",
    "  f[\"t\"] += 1\n",
    "  f[\"p\"] = temp_p\n",
    "  f[\"v\"] = temp_v\n",
    "\n",
    "  p.append(f[\"p\"])\n",
    "  v.append(f[\"v\"])\n",
    "  t.append(f[\"t\"])\n",
    "\n",
    "# for i in range(1000):\n",
    "#   print(p[i], v[i])\n",
    "\n",
    "import matplotlib.pyplot as plt\n",
    "\n",
    "plt.plot(t, p)\n",
    "plt.plot(t, v)\n",
    "\n",
    "\n",
    "\n"
   ]
  },
  {
   "cell_type": "markdown",
   "metadata": {},
   "source": [
    "---\n",
    "\n",
    "#### Activity 3. Mountain car problem (cont.)\n",
    "\n",
    "Suppose now that, at each step $t$, the car driver selects $u(t)=1$ with probability $0.7$, $u(t)=0$ with probability $0.2$, and $u(t)=-1$ with probability $0.1$. Repeat Activity 2.\n",
    "\n",
    "**Note:** You may find useful the function `choice` from the module `numpy.random`.\n",
    "\n",
    "---"
   ]
  },
  {
   "cell_type": "code",
   "execution_count": null,
   "metadata": {
    "ExecuteTime": {
     "end_time": "2023-02-23T17:28:39.913991Z",
     "start_time": "2023-02-23T17:28:39.911772Z"
    }
   },
   "outputs": [],
   "source": [
    "# Insert your code here."
   ]
  },
  {
   "cell_type": "markdown",
   "metadata": {},
   "source": [
    "### 3. Plotting\n",
    "\n",
    "The Python module **matplotlib** offers a number of plotting routines that are ideal to display scientific data. The following generates 100 perturbed samples from the function\n",
    "\n",
    "$$f(x) = 2x$$\n",
    "\n",
    "and uses these samples to estimate the function $f$."
   ]
  },
  {
   "cell_type": "code",
   "execution_count": 38,
   "metadata": {
    "ExecuteTime": {
     "end_time": "2023-02-23T17:28:40.841650Z",
     "start_time": "2023-02-23T17:28:39.920173Z"
    }
   },
   "outputs": [
    {
     "name": "stdout",
     "output_type": "stream",
     "text": [
      "(2, 100) (100, 1)\n"
     ]
    },
    {
     "data": {
      "text/plain": [
       "Text(0.5, 1.0, 'Linear regression')"
      ]
     },
     "execution_count": 38,
     "metadata": {},
     "output_type": "execute_result"
    },
    {
     "data": {
      "image/png": "[encoded data removed]",
      "text/plain": [
       "<Figure size 640x480 with 1 Axes>"
      ]
     },
     "metadata": {},
     "output_type": "display_data"
    }
   ],
   "source": [
    "%matplotlib inline\n",
    "import matplotlib.pyplot as plt\n",
    "import numpy.random as rnd\n",
    "import numpy as np\n",
    "\n",
    "import numpy.random as rnd\n",
    "import time\n",
    "\n",
    "# Create data\n",
    "x = 100 * rnd.rand(100, 1)\n",
    "y = 2 * x + 10 * rnd.randn(100, 1)\n",
    "\n",
    "# Estimate linear relation between X and Y\n",
    "\n",
    "X = np.append(x, np.ones((100,1)), axis = 1)\n",
    "\n",
    "f_est = np.dot(np.linalg.pinv(X), x)\n",
    "print(np.linalg.pinv(X).shape, x.shape)\n",
    "y_est = np.dot(X, f_est)\n",
    "\n",
    "# Plot commands\n",
    "\n",
    "plt.figure()\n",
    "plt.plot(x, y_est)\n",
    "plt.plot(x, y, 'x')\n",
    "\n",
    "plt.xlabel('Input X')\n",
    "plt.ylabel('Output Y')\n",
    "\n",
    "plt.title('Linear regression')"
   ]
  },
  {
   "cell_type": "markdown",
   "metadata": {},
   "source": [
    "Consider more carefully the piece of code above, where we included line numbers for easier reference.\n",
    "\n",
    "* On lines 5 and 6, the vectors *x* and *y* are created, using mostly functionalities that you already encountered in Sections 1 and 2. The novelty is the function `randn` which is similar to the function `rand` except on their underlying distribution: while `rand` generates random numbers uniformly from the interval [0, 1], `randn` generates normally distributed random numbers with mean 0 and a standard deviation of 1.\n",
    "\n",
    "* Lines 10-13 estimate a linear relation between *x* and *y* using the data already created. Do not worry about the actual computations, and simply observe the use of matrix concatenation in line 10, and the `pinv` function in line 12. The function `pinv` computes the Moore-Penrose pseudo-inverse of a matrix (you can find more infor, for example, in [Wikipedia](https://en.wikipedia.org/wiki/Moore%E2%80%93Penrose_inverse))\n",
    "\n",
    "* Lines 17 through 24 contain the actual plotting commands. In particular:\n",
    "\n",
    "  * The figure command in line 17 creates a new figure.\n",
    "\n",
    "  * The plot command in line 18 is responsible for displaying the continuous line in the plot. In here, it is used with its most basic syntax. However, the plot command has a very rich syntax, and you can type `help(\"mplotlib.pyplot.plot\")` to know more about this useful function.\n",
    "  \n",
    "  * The plot command in line 19 plots the original data. Note how the line specification 'x' indicates that, unlike the plot in line 18, this data should not be plotted continuously but instead marking each data-point with an \"&times;\".\n",
    "  \n",
    "* Finally, the commands in lines 21 to 24 are used to include additional information in the plot, such as the labels for both axis and the title for the plot."
   ]
  },
  {
   "cell_type": "markdown",
   "metadata": {},
   "source": [
    "---\n",
    "\n",
    "#### Activity 4. Mountain car problem (cont.)\n",
    "\n",
    "Plot in the same axis the position $p$ of the car as a function of $t$ as observed in Activities 2 and 3. What do you observe?\n",
    "\n",
    "---"
   ]
  },
  {
   "cell_type": "code",
   "execution_count": null,
   "metadata": {
    "ExecuteTime": {
     "end_time": "2023-02-23T17:28:40.846724Z",
     "start_time": "2023-02-23T17:28:40.844657Z"
    }
   },
   "outputs": [],
   "source": [
    "# Insert your code here."
   ]
  },
  {
   "cell_type": "markdown",
   "metadata": {},
   "source": [
    "<font color='blue'>[Insert your comments here.]</font>"
   ]
  },
  {
   "cell_type": "markdown",
   "metadata": {},
   "source": [
    "---\n",
    "\n",
    "#### Activity 5. Mountain car problem (conc.)\n",
    "\n",
    "Suppose now that the driver selects $u(t)=-1$ until it reaches the position $p(t)=-0.85$ and then selects $u(t)=1$. Repeat Activity 2 and plot the three trajectories you obtained. What can you observe?\n",
    "\n",
    "---"
   ]
  },
  {
   "cell_type": "code",
   "execution_count": null,
   "metadata": {
    "ExecuteTime": {
     "end_time": "2023-02-23T17:28:40.850751Z",
     "start_time": "2023-02-23T17:28:40.848793Z"
    }
   },
   "outputs": [],
   "source": [
    "# Insert your code here."
   ]
  },
  {
   "cell_type": "markdown",
   "metadata": {},
   "source": [
    "---\n",
    "\n",
    "#### Activity 5\n",
    "\n",
    "Export your file as a Python script. In particular:\n",
    "\n",
    "* Go to the menu \"**File**\", select the option \"**Download as &#x27A4;**\" and then \"**Python (.py)**\".\n",
    "* Name your file `padi-lab0-groupXXX.py`, where you replace `XXX` by your group number.\n",
    "\n",
    "Open the resulting Python file. Note that all the markdown in this notebook is converted to comments in the resulting Python file. \n",
    "\n",
    "* Delete **all** comments in the Python file, keeping only the \"pure\" Python code and the comments corresponding to your text answers. \n",
    "* Delete all prints and sanity checks you included in the code.\n",
    "\n",
    "At some point in the python file, you will find the line:\n",
    "\n",
    "`get_ipython().run_line_magic('matplotlib', 'notebook')`\n",
    "\n",
    "This is a line used by Jupyter and which will yield an error if the Python script is executed as is. \n",
    "\n",
    "* Remove the aforementioned line.\n",
    "* Run the resulting file. To do so, you can open a terminal window and execute the shell command `python padi-lab0-groupXXX.py`. Verify that everything works properly. \n",
    "\n",
    "In future labs, you should always follow these steps to make sure that everything works properly before submitting a lab assignment.\n",
    "\n",
    "---"
   ]
  }
 ],
 "metadata": {
  "kernelspec": {
   "display_name": "Python 3",
   "language": "python",
   "name": "python3"
  },
  "language_info": {
   "codemirror_mode": {
    "name": "ipython",
    "version": 3
   },
   "file_extension": ".py",
   "mimetype": "text/x-python",
   "name": "python",
   "nbconvert_exporter": "python",
   "pygments_lexer": "ipython3",
   "version": "3.11.8"
  },
  "latex_envs": {
   "LaTeX_envs_menu_present": true,
   "autoclose": false,
   "autocomplete": true,
   "bibliofile": "biblio.bib",
   "cite_by": "apalike",
   "current_citInitial": 1,
   "eqLabelWithNumbers": true,
   "eqNumInitial": 1,
   "hotkeys": {
    "equation": "Ctrl-E",
    "itemize": "Ctrl-I"
   },
   "labels_anchors": false,
   "latex_user_defs": false,
   "report_style_numbering": false,
   "user_envs_cfg": false
  }
 },
 "nbformat": 4,
 "nbformat_minor": 1
}
